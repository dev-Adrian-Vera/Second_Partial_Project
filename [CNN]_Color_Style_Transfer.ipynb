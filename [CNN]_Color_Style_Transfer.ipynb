{
  "nbformat": 4,
  "nbformat_minor": 0,
  "metadata": {
    "colab": {
      "name": "[CNN] Color_Style_Transfer.ipynb",
      "provenance": [],
      "mount_file_id": "1NCH0KxPNn-I4SViplJlC62iKPlqaLsXk",
      "authorship_tag": "ABX9TyPlnwlmHmU2OgBtqTbpW89g",
      "include_colab_link": true
    },
    "kernelspec": {
      "name": "python3",
      "display_name": "Python 3"
    },
    "language_info": {
      "name": "python"
    }
  },
  "cells": [
    {
      "cell_type": "markdown",
      "metadata": {
        "id": "view-in-github",
        "colab_type": "text"
      },
      "source": [
        "<a href=\"https://colab.research.google.com/github/dev-Adrian-Vera/Second_Partial_Project/blob/main/%5BCNN%5D_Color_Style_Transfer.ipynb\" target=\"_parent\"><img src=\"https://colab.research.google.com/assets/colab-badge.svg\" alt=\"Open In Colab\"/></a>"
      ]
    },
    {
      "cell_type": "markdown",
      "metadata": {
        "id": "9zfQepwvWvmb"
      },
      "source": [
        "# This project is an updated version of the developer's draft @pavelgonchar. \n",
        "## if you wish to obtain the code without adapting, [click here](https://github.com/pavelgonchar/color-independent-style-transfer). \n"
      ]
    },
    {
      "cell_type": "code",
      "metadata": {
        "colab": {
          "base_uri": "https://localhost:8080/",
          "height": 904
        },
        "id": "x974slBW-rYX",
        "outputId": "3a379772-c366-4abe-93ea-6c756241214b"
      },
      "source": [
        "#Libraris installing.\n",
        "!pip uninstall tensorflow\n",
        "!pip install tensorflow"
      ],
      "execution_count": null,
      "outputs": [
        {
          "output_type": "stream",
          "name": "stdout",
          "text": [
            "Found existing installation: tensorflow 1.15.0\n",
            "Uninstalling tensorflow-1.15.0:\n",
            "  Would remove:\n",
            "    /usr/local/bin/estimator_ckpt_converter\n",
            "    /usr/local/bin/freeze_graph\n",
            "    /usr/local/bin/saved_model_cli\n",
            "    /usr/local/bin/tensorboard\n",
            "    /usr/local/bin/tf_upgrade_v2\n",
            "    /usr/local/bin/tflite_convert\n",
            "    /usr/local/bin/toco\n",
            "    /usr/local/bin/toco_from_protos\n",
            "    /usr/local/lib/python3.7/dist-packages/tensorflow-1.15.0.dist-info/*\n",
            "    /usr/local/lib/python3.7/dist-packages/tensorflow/*\n",
            "    /usr/local/lib/python3.7/dist-packages/tensorflow_core/*\n",
            "Proceed (y/n)? y\n",
            "  Successfully uninstalled tensorflow-1.15.0\n",
            "Collecting tensorflow==1.15.0\n",
            "  Using cached tensorflow-1.15.0-cp37-cp37m-manylinux2010_x86_64.whl (412.3 MB)\n",
            "Requirement already satisfied: keras-preprocessing>=1.0.5 in /usr/local/lib/python3.7/dist-packages (from tensorflow==1.15.0) (1.1.2)\n",
            "Requirement already satisfied: google-pasta>=0.1.6 in /usr/local/lib/python3.7/dist-packages (from tensorflow==1.15.0) (0.2.0)\n",
            "Requirement already satisfied: keras-applications>=1.0.8 in /usr/local/lib/python3.7/dist-packages (from tensorflow==1.15.0) (1.0.8)\n",
            "Requirement already satisfied: six>=1.10.0 in /usr/local/lib/python3.7/dist-packages (from tensorflow==1.15.0) (1.15.0)\n",
            "Requirement already satisfied: gast==0.2.2 in /usr/local/lib/python3.7/dist-packages (from tensorflow==1.15.0) (0.2.2)\n",
            "Requirement already satisfied: grpcio>=1.8.6 in /usr/local/lib/python3.7/dist-packages (from tensorflow==1.15.0) (1.39.0)\n",
            "Requirement already satisfied: astor>=0.6.0 in /usr/local/lib/python3.7/dist-packages (from tensorflow==1.15.0) (0.8.1)\n",
            "Requirement already satisfied: protobuf>=3.6.1 in /usr/local/lib/python3.7/dist-packages (from tensorflow==1.15.0) (3.17.3)\n",
            "Requirement already satisfied: opt-einsum>=2.3.2 in /usr/local/lib/python3.7/dist-packages (from tensorflow==1.15.0) (3.3.0)\n",
            "Requirement already satisfied: termcolor>=1.1.0 in /usr/local/lib/python3.7/dist-packages (from tensorflow==1.15.0) (1.1.0)\n",
            "Requirement already satisfied: wrapt>=1.11.1 in /usr/local/lib/python3.7/dist-packages (from tensorflow==1.15.0) (1.12.1)\n",
            "Requirement already satisfied: absl-py>=0.7.0 in /usr/local/lib/python3.7/dist-packages (from tensorflow==1.15.0) (0.12.0)\n",
            "Requirement already satisfied: wheel>=0.26 in /usr/local/lib/python3.7/dist-packages (from tensorflow==1.15.0) (0.37.0)\n",
            "Requirement already satisfied: numpy<2.0,>=1.16.0 in /usr/local/lib/python3.7/dist-packages (from tensorflow==1.15.0) (1.19.5)\n",
            "Requirement already satisfied: tensorflow-estimator==1.15.1 in /usr/local/lib/python3.7/dist-packages (from tensorflow==1.15.0) (1.15.1)\n",
            "Requirement already satisfied: tensorboard<1.16.0,>=1.15.0 in /usr/local/lib/python3.7/dist-packages (from tensorflow==1.15.0) (1.15.0)\n",
            "Requirement already satisfied: h5py in /usr/local/lib/python3.7/dist-packages (from keras-applications>=1.0.8->tensorflow==1.15.0) (3.1.0)\n",
            "Requirement already satisfied: setuptools>=41.0.0 in /usr/local/lib/python3.7/dist-packages (from tensorboard<1.16.0,>=1.15.0->tensorflow==1.15.0) (57.4.0)\n",
            "Requirement already satisfied: markdown>=2.6.8 in /usr/local/lib/python3.7/dist-packages (from tensorboard<1.16.0,>=1.15.0->tensorflow==1.15.0) (3.3.4)\n",
            "Requirement already satisfied: werkzeug>=0.11.15 in /usr/local/lib/python3.7/dist-packages (from tensorboard<1.16.0,>=1.15.0->tensorflow==1.15.0) (1.0.1)\n",
            "Requirement already satisfied: importlib-metadata in /usr/local/lib/python3.7/dist-packages (from markdown>=2.6.8->tensorboard<1.16.0,>=1.15.0->tensorflow==1.15.0) (4.6.4)\n",
            "Requirement already satisfied: cached-property in /usr/local/lib/python3.7/dist-packages (from h5py->keras-applications>=1.0.8->tensorflow==1.15.0) (1.5.2)\n",
            "Requirement already satisfied: typing-extensions>=3.6.4 in /usr/local/lib/python3.7/dist-packages (from importlib-metadata->markdown>=2.6.8->tensorboard<1.16.0,>=1.15.0->tensorflow==1.15.0) (3.7.4.3)\n",
            "Requirement already satisfied: zipp>=0.5 in /usr/local/lib/python3.7/dist-packages (from importlib-metadata->markdown>=2.6.8->tensorboard<1.16.0,>=1.15.0->tensorflow==1.15.0) (3.5.0)\n",
            "Installing collected packages: tensorflow\n",
            "\u001b[31mERROR: pip's dependency resolver does not currently take into account all the packages that are installed. This behaviour is the source of the following dependency conflicts.\n",
            "kapre 0.3.5 requires tensorflow>=2.0.0, but you have tensorflow 1.15.0 which is incompatible.\u001b[0m\n",
            "Successfully installed tensorflow-1.15.0\n"
          ]
        },
        {
          "output_type": "display_data",
          "data": {
            "application/vnd.colab-display-data+json": {
              "pip_warning": {
                "packages": [
                  "tensorflow",
                  "tensorflow_core"
                ]
              }
            }
          },
          "metadata": {}
        }
      ]
    },
    {
      "cell_type": "code",
      "metadata": {
        "colab": {
          "base_uri": "https://localhost:8080/"
        },
        "id": "J7T4UzZN-pHZ",
        "outputId": "f12d9903-c84b-4e76-e9dc-d09539327895"
      },
      "source": [
        "#imports of libraries and instans of class.\n",
        "import skimage.io\n",
        "import tensorflow as tf\n",
        "from tensorflow.python.framework import ops, dtypes\n",
        "import numpy as np\n",
        "from matplotlib import pyplot as plt\n",
        "\n",
        "\n",
        "flags = tf.compat.v1.flags\n",
        "FLAGS = flags.FLAGS\n",
        "\n",
        "flags_dict = FLAGS._flags()    \n",
        "keys_list = [keys for keys in flags_dict]    \n",
        "for keys in keys_list:\n",
        "  FLAGS.__delattr__(keys)\n",
        "\n",
        "flags.DEFINE_string('original', '/content/drive/MyDrive/Colab Notebooks/Color NonColor_Style/examples/img_org.jpg', 'Original Image')\n",
        "flags.DEFINE_string('f', '', 'Original Image')\n",
        "flags.DEFINE_string('styled', '/content/drive/MyDrive/Colab Notebooks/Color NonColor_Style/examples/img_sty.jpg', 'Styled Image')\n",
        "\n",
        "tf.compat.v1.disable_eager_execution()\n",
        "original = tf.compat.v1.placeholder(\"float\", [1, 338, 600, 3])\n",
        "styled = tf.compat.v1.placeholder(\"float\", [1, 338, 600, 3])\n",
        "\n",
        "def concat_images(imga, imgb):\n",
        "    \"\"\"\n",
        "    Combines two color image ndarrays side-by-side.\n",
        "    \"\"\"\n",
        "    ha, wa = imga.shape[:2]\n",
        "    hb, wb = imgb.shape[:2]\n",
        "    max_height = np.max([ha, hb])\n",
        "    total_width = wa + wb\n",
        "    new_img = np.zeros(shape=(max_height, total_width, 3), dtype=np.float32)\n",
        "    new_img[:ha, :wa] = imga\n",
        "    new_img[:hb, wa:wa + wb] = imgb\n",
        "    return new_img\n",
        "\n",
        "\n",
        "def rgb2yuv(rgb):\n",
        "    \"\"\"\n",
        "    Convert RGB image into YUV https://en.wikipedia.org/wiki/YUV\n",
        "    \"\"\"\n",
        "    rgb2yuv_filter = tf.constant(\n",
        "        [[[[0.299, -0.169, 0.499],\n",
        "           [0.587, -0.331, -0.418],\n",
        "            [0.114, 0.499, -0.0813]]]])\n",
        "    rgb2yuv_bias = tf.constant([0., 0.5, 0.5])\n",
        "\n",
        "    temp = tf.nn.conv2d(rgb, rgb2yuv_filter, [1, 1, 1, 1], 'SAME')\n",
        "    temp = tf.nn.bias_add(temp, rgb2yuv_bias)\n",
        "\n",
        "    return temp\n",
        "\n",
        "\n",
        "def yuv2rgb(yuv):\n",
        "    \"\"\"\n",
        "    Convert YUV image into RGB https://en.wikipedia.org/wiki/YUV\n",
        "    \"\"\"\n",
        "    yuv = tf.multiply(yuv, 255)\n",
        "    yuv2rgb_filter = tf.constant(\n",
        "        [[[[1., 1., 1.],\n",
        "           [0., -0.34413999, 1.77199996],\n",
        "            [1.40199995, -0.71414, 0.]]]])\n",
        "    yuv2rgb_bias = tf.constant([-179.45599365, 135.45983887, -226.81599426])\n",
        "    temp = tf.nn.conv2d(yuv, yuv2rgb_filter, [1, 1, 1, 1], 'SAME')\n",
        "    temp = tf.nn.bias_add(temp, yuv2rgb_bias)\n",
        "    temp = tf.maximum(temp, tf.zeros(temp.get_shape(), dtype=tf.float32))\n",
        "    temp = tf.minimum(temp, tf.multiply(\n",
        "        tf.ones(temp.get_shape(), dtype=tf.float32), 255))\n",
        "    temp = tf.divide(temp, 255)\n",
        "    return temp\n",
        "\n",
        "\n",
        "styled_grayscale = tf.image.rgb_to_grayscale(styled)\n",
        "styled_grayscale_rgb = tf.image.grayscale_to_rgb(styled_grayscale)\n",
        "styled_grayscale_yuv = rgb2yuv(styled_grayscale_rgb)\n",
        "\n",
        "original_yuv = rgb2yuv(original)\n",
        "\n",
        "combined_yuv = tf.concat([tf.split(styled_grayscale_yuv, 3,3)[0], tf.split(original_yuv, 3, 3)[1], tf.split(original_yuv, 3, 3)[2]], 3)\n",
        "combined_rbg = yuv2rgb(combined_yuv)\n",
        "\n",
        "init = tf.compat.v1.initialize_all_variables()\n",
        "\n",
        "with tf.compat.v1.Session() as sess:\n",
        "    sess.run(tf.compat.v1.initialize_all_variables())\n",
        "   \n",
        "    original_image = skimage.io.imread(FLAGS.original) / 255.0\n",
        "    original_image = original_image.reshape((1, 338, 600, 3))\n",
        "    styled_image = skimage.io.imread(FLAGS.styled) / 255.0\n",
        "    styled_image = styled_image.reshape((1, 338, 600, 3))\n",
        "\n",
        "    combined_rbg_ = sess.run(combined_rbg, feed_dict={original: original_image, styled: styled_image})\n",
        "\n",
        "    summary_image = concat_images(original_image.reshape((338, 600, 3)), styled_image.reshape((338, 600, 3)))\n",
        "    summary_image = concat_images(summary_image, combined_rbg_[0])\n",
        "    plt.imsave(\"/content/drive/MyDrive/Colab Notebooks/Color NonColor_Style/examples/results.jpg\", summary_image)"
      ],
      "execution_count": null,
      "outputs": [
        {
          "output_type": "stream",
          "name": "stdout",
          "text": [
            "WARNING:tensorflow:From /usr/local/lib/python3.7/dist-packages/tensorflow_core/python/util/tf_should_use.py:198: initialize_all_variables (from tensorflow.python.ops.variables) is deprecated and will be removed after 2017-03-02.\n",
            "Instructions for updating:\n",
            "Use `tf.global_variables_initializer` instead.\n"
          ]
        }
      ]
    }
  ]
}